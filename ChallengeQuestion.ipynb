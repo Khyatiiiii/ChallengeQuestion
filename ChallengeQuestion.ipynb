{
  "nbformat": 4,
  "nbformat_minor": 0,
  "metadata": {
    "colab": {
      "provenance": [],
      "authorship_tag": "ABX9TyPOdnsqyX67Gs2vYRFO4vVe",
      "include_colab_link": true
    },
    "kernelspec": {
      "name": "python3",
      "display_name": "Python 3"
    },
    "language_info": {
      "name": "python"
    }
  },
  "cells": [
    {
      "cell_type": "markdown",
      "metadata": {
        "id": "view-in-github",
        "colab_type": "text"
      },
      "source": [
        "<a href=\"https://colab.research.google.com/github/Khyatiiiii/ChallengeQuestion/blob/main/ChallengeQuestion.ipynb\" target=\"_parent\"><img src=\"https://colab.research.google.com/assets/colab-badge.svg\" alt=\"Open In Colab\"/></a>"
      ]
    },
    {
      "cell_type": "code",
      "execution_count": 6,
      "metadata": {
        "colab": {
          "base_uri": "https://localhost:8080/"
        },
        "id": "qLdPRnxkstzY",
        "outputId": "3b929016-2b89-42d3-9cbc-7af098340413"
      },
      "outputs": [
        {
          "output_type": "stream",
          "name": "stdout",
          "text": [
            "['Ram', '1', 'Shyam', '2', 'Aman', '3']\n",
            "[1, 2, 3, 'Aman', 'Ram', 'Shyam']\n",
            "['1', '2', '3', 'Aman', 'Ram', 'Shyam']\n"
          ]
        }
      ],
      "source": [
        "L = [\"Ram\", 1, \"Shyam\", 2, \"Aman\", 3]\n",
        "L=[str(i) for i in L]\n",
        "print(L)\n",
        "L.sort()\n",
        "L1=[]\n",
        "for i in L:\n",
        "  try:\n",
        "    L1.append(int(i))\n",
        "  except:\n",
        "    L1.append(i)\n",
        "print(L1)\n",
        "\n",
        "print(L)\n"
      ]
    },
    {
      "cell_type": "code",
      "source": [],
      "metadata": {
        "id": "KHT0U7RMuOdP"
      },
      "execution_count": null,
      "outputs": []
    }
  ]
}